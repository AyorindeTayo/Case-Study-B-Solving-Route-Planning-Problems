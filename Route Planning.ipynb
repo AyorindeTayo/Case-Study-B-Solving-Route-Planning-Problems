{
 "cells": [
  {
   "cell_type": "code",
   "execution_count": 1,
   "metadata": {},
   "outputs": [],
   "source": [
    "import matplotlib.pyplot as plt\n",
    "import sys"
   ]
  },
  {
   "cell_type": "code",
   "execution_count": 2,
   "metadata": {},
   "outputs": [
    {
     "data": {
      "image/png": "[encoded data removed]",
      "text/plain": [
       "<Figure size 432x288 with 1 Axes>"
      ]
     },
     "metadata": {
      "needs_background": "light"
     },
     "output_type": "display_data"
    }
   ],
   "source": [
    "##list of cities and corresponding coordinates\n",
    "cities = [\"Ape\", \"Big\", \"Cow\", \"Dog\", \"Egg\", \"Fox\", \"Gas\", \"Hit\", \"Ick\", \"Jab\", \"Kim\"]\n",
    "xyCoord = [(-0.307996E-04, -0.186857E-04), (-14.8058, -0.373991E-04), (-45.6755, -9.74380), \n",
    "           (-30.6703, -2.02336), (12.5209, -13.3649), (-46.3966, -9.17876), (-34.7018, 13.4900), (-6.15704, 2.20589),\n",
    "          (-8.02244, -1.35290), (-27.9627, -17.0577), (9.95119, -6.27887)]\n",
    "plt.scatter(*zip(*xyCoord))\n",
    "plt.title('(X,Y) coordinates of each city')\n",
    "plt.xlabel('X-Axis')\n",
    "plt.ylabel('Y-Axis')\n",
    "plt.show()"
   ]
  },
  {
   "cell_type": "code",
   "execution_count": 3,
   "metadata": {},
   "outputs": [],
   "source": [
    "# Dijkstra's single source shortest path algorithm for adjacency matrix representation of the graph\n",
    "\n",
    "class Graph():\n",
    "  \n",
    "    def __init__(self, vertices):\n",
    "        self.V = vertices\n",
    "        self.graph = [[0 for column in range(vertices)] \n",
    "                    for row in range(vertices)]\n",
    "  \n",
    "    def printSolution(self, dist):\n",
    "        print(\"Vertex \\tDistance from Source\")\n",
    "        for node in range(self.V):\n",
    "            print(node, \": \", cities[node], \"\\t\", dist[node])\n",
    "  \n",
    "    # A utility function to find the vertex with \n",
    "    # minimum distance value, from the set of vertices \n",
    "    # not yet included in shortest path tree\n",
    "    def minDistance(self, dist, sptSet):\n",
    "  \n",
    "        # Initilaize minimum distance for next node\n",
    "        min = sys.maxsize\n",
    "  \n",
    "        # Search not nearest vertex not in the \n",
    "        # shortest path tree\n",
    "        for v in range(self.V):\n",
    "            if dist[v] < min and sptSet[v] == False:\n",
    "                min = dist[v]\n",
    "                min_index = v\n",
    "  \n",
    "        return min_index\n",
    "  \n",
    "    # Funtion that implements Dijkstra's single source \n",
    "    # shortest path algorithm for a graph represented \n",
    "    # using adjacency matrix representation\n",
    "    def dijkstra(self, src):\n",
    "  \n",
    "        dist = [sys.maxsize] * self.V\n",
    "        dist[src] = 0\n",
    "        sptSet = [False] * self.V\n",
    "  \n",
    "        for cout in range(self.V):\n",
    "  \n",
    "            # Pick the minimum distance vertex from \n",
    "            # the set of vertices not yet processed. \n",
    "            # u is always equal to src in first iteration\n",
    "            u = self.minDistance(dist, sptSet)\n",
    "            # Put the minimum distance vertex in the \n",
    "            # shotest path tree\n",
    "            sptSet[u] = True\n",
    "  \n",
    "            # Update dist value of the adjacent vertices \n",
    "            # of the picked vertex only if the current \n",
    "            # distance is greater than new distance and\n",
    "            # the vertex in not in the shotest path tree\n",
    "            for v in range(self.V):\n",
    "                if self.graph[u][v] > 0 and sptSet[v] == False and \\\n",
    "                dist[v] > dist[u] + self.graph[u][v]:\n",
    "                        dist[v] = dist[u] + self.graph[u][v]\n",
    "                        #print(cities[v])\n",
    "  \n",
    "        self.printSolution(dist)"
   ]
  },
  {
   "cell_type": "code",
   "execution_count": 8,
   "metadata": {},
   "outputs": [],
   "source": [
    "distanceMatrixGraph = Graph(10)"
   ]
  },
  {
   "cell_type": "code",
   "execution_count": 5,
   "metadata": {},
   "outputs": [],
   "source": [
    "distanceMatrixGraph.graph = [[0,8,50,31,12,48,36,2,5,39,10],\n",
    "        [8,0,38,9,33,37,22,6,4,14,32],\n",
    "        [50,38,0,11,55,1,23,46,41,17,52],\n",
    "        [31,9,11,0,44,13,16,19,25,18,42],\n",
    "        [12,33,55,44,0,54,53,30,28,45,7],\n",
    "        [48,37,1,13,54,0,26,47,40,24,51],\n",
    "        [36,22,23,16,53,26,0,29,35,34,49],\n",
    "        [2,6,46,19,30,47,29,0,3,27,15],\n",
    "        [5,4,41,25,28,40,35,3,0,20,21],\n",
    "        [39,14,17,18,45,24,34,27,20,0,43],\n",
    "        [10,32,52,42,7,51,49,15,21,43,0]\n",
    "        ]"
   ]
  },
  {
   "cell_type": "code",
   "execution_count": 6,
   "metadata": {},
   "outputs": [
    {
     "name": "stdout",
     "output_type": "stream",
     "text": [
      "distance from source Ape\n",
      "Vertex \tDistance from Source\n",
      "0 :  Ape \t 0\n",
      "1 :  Big \t 8\n",
      "2 :  Cow \t 28\n",
      "3 :  Dog \t 17\n",
      "4 :  Egg \t 12\n",
      "5 :  Fox \t 29\n",
      "6 :  Gas \t 30\n",
      "7 :  Hit \t 2\n",
      "8 :  Ick \t 5\n",
      "9 :  Jab \t 22\n"
     ]
    }
   ],
   "source": [
    "sourceNode = 0\n",
    "print(\"distance from source\", cities[sourceNode])\n",
    "distanceMatrixGraph.dijkstra(0); # distance from source"
   ]
  }
 ],
 "metadata": {
  "kernelspec": {
   "display_name": "Python 3",
   "language": "python",
   "name": "python3"
  },
  "language_info": {
   "codemirror_mode": {
    "name": "ipython",
    "version": 3
   },
   "file_extension": ".py",
   "mimetype": "text/x-python",
   "name": "python",
   "nbconvert_exporter": "python",
   "pygments_lexer": "ipython3",
   "version": "3.8.5"
  }
 },
 "nbformat": 4,
 "nbformat_minor": 4
}
